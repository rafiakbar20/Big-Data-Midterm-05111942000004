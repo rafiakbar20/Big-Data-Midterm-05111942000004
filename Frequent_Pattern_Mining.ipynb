{
  "nbformat": 4,
  "nbformat_minor": 0,
  "metadata": {
    "colab": {
      "provenance": []
    },
    "kernelspec": {
      "name": "python3",
      "display_name": "Python 3"
    },
    "language_info": {
      "name": "python"
    }
  },
  "cells": [
    {
      "cell_type": "markdown",
      "source": [
        "# Recommendation Systems - Frequent Pattern Mining\n",
        "\n",
        "\n",
        "\n",
        "*   Rafi Akbar Rafsanjani\n",
        "*   05111942000004\n",
        "\n"
      ],
      "metadata": {
        "id": "AHmrcG2Id_Q-"
      }
    },
    {
      "cell_type": "code",
      "execution_count": 1,
      "metadata": {
        "colab": {
          "base_uri": "https://localhost:8080/"
        },
        "id": "UTOSIOcMRvl8",
        "outputId": "bdfcb829-b6fd-4d63-e89f-64ec88356947"
      },
      "outputs": [
        {
          "output_type": "stream",
          "name": "stdout",
          "text": [
            "Looking in indexes: https://pypi.org/simple, https://us-python.pkg.dev/colab-wheels/public/simple/\n",
            "Collecting pyspark\n",
            "  Downloading pyspark-3.4.0.tar.gz (310.8 MB)\n",
            "\u001b[2K     \u001b[90m━━━━━━━━━━━━━━━━━━━━━━━━━━━━━━━━━━━━━━━\u001b[0m \u001b[32m310.8/310.8 MB\u001b[0m \u001b[31m5.2 MB/s\u001b[0m eta \u001b[36m0:00:00\u001b[0m\n",
            "\u001b[?25h  Preparing metadata (setup.py) ... \u001b[?25l\u001b[?25hdone\n",
            "Requirement already satisfied: py4j==0.10.9.7 in /usr/local/lib/python3.9/dist-packages (from pyspark) (0.10.9.7)\n",
            "Building wheels for collected packages: pyspark\n",
            "  Building wheel for pyspark (setup.py) ... \u001b[?25l\u001b[?25hdone\n",
            "  Created wheel for pyspark: filename=pyspark-3.4.0-py2.py3-none-any.whl size=311317145 sha256=7017c821558fdedb12ffdbbc43cc34a3665496572dece18e689388cd8311f3a0\n",
            "  Stored in directory: /root/.cache/pip/wheels/9f/34/a4/159aa12d0a510d5ff7c8f0220abbea42e5d81ecf588c4fd884\n",
            "Successfully built pyspark\n",
            "Installing collected packages: pyspark\n",
            "Successfully installed pyspark-3.4.0\n"
          ]
        }
      ],
      "source": [
        "!pip install pyspark"
      ]
    },
    {
      "cell_type": "code",
      "source": [
        "import pandas as pd\n",
        "import numpy as np\n",
        "from pyspark.sql import SparkSession\n",
        "from pyspark.sql.functions import *\n",
        "from pyspark.ml.fpm import FPGrowth"
      ],
      "metadata": {
        "id": "97jONxpnUF3O"
      },
      "execution_count": 28,
      "outputs": []
    },
    {
      "cell_type": "code",
      "source": [
        "# Create a Spark session\n",
        "spark = SparkSession.builder \\\n",
        "    .master(\"local\") \\\n",
        "    .appName(\"Frequent Pattern Mining\") \\\n",
        "    .config(\"spark.some.config.option\", \"some-value\") \\\n",
        "    .getOrCreate()\n",
        "\n",
        "df = spark.read.options(header = 'True', delimiter = ';').csv(\"/content/market-basket.csv\")\n",
        "df.show()"
      ],
      "metadata": {
        "id": "RPoD3_VqihYZ",
        "outputId": "4a14bd30-8063-497c-c58a-2318f92204c7",
        "colab": {
          "base_uri": "https://localhost:8080/"
        }
      },
      "execution_count": 31,
      "outputs": [
        {
          "output_type": "stream",
          "name": "stdout",
          "text": [
            "+------+--------------------+--------+----------------+-----+----------+----------------+\n",
            "|BillNo|            Itemname|Quantity|            Date|Price|CustomerID|      Country,,,|\n",
            "+------+--------------------+--------+----------------+-----+----------+----------------+\n",
            "|536365|WHITE HANGING HEA...|       6|01.12.2010 08:26| 2,55|     17850|United Kingdom,,|\n",
            "|536365| WHITE METAL LANTERN|       6|01.12.2010 08:26| 3,39|     17850|United Kingdom,,|\n",
            "|536365|CREAM CUPID HEART...|       8|01.12.2010 08:26| 2,75|     17850|United Kingdom,,|\n",
            "|536365|KNITTED UNION FLA...|       6|01.12.2010 08:26| 3,39|     17850|United Kingdom,,|\n",
            "|536365|RED WOOLLY HOTTIE...|       6|01.12.2010 08:26| 3,39|     17850|United Kingdom,,|\n",
            "|536365|SET 7 BABUSHKA NE...|       2|01.12.2010 08:26| 7,65|     17850|United Kingdom,,|\n",
            "|536365|GLASS STAR FROSTE...|       6|01.12.2010 08:26| 4,25|     17850|United Kingdom,,|\n",
            "|536366|HAND WARMER UNION...|       6|01.12.2010 08:28| 1,85|     17850|United Kingdom,,|\n",
            "|536366|HAND WARMER RED P...|       6|01.12.2010 08:28| 1,85|     17850|United Kingdom,,|\n",
            "|536367|ASSORTED COLOUR B...|      32|01.12.2010 08:34| 1,69|     13047|United Kingdom,,|\n",
            "|536367|POPPY'S PLAYHOUSE...|       6|01.12.2010 08:34|  2,1|     13047|United Kingdom,,|\n",
            "|536367|POPPY'S PLAYHOUSE...|       6|01.12.2010 08:34|  2,1|     13047|United Kingdom,,|\n",
            "|536367|FELTCRAFT PRINCES...|       8|01.12.2010 08:34| 3,75|     13047|United Kingdom,,|\n",
            "|536367|IVORY KNITTED MUG...|       6|01.12.2010 08:34| 1,65|     13047|United Kingdom,,|\n",
            "|536367|BOX OF 6 ASSORTED...|       6|01.12.2010 08:34| 4,25|     13047|United Kingdom,,|\n",
            "|536367|BOX OF VINTAGE JI...|       3|01.12.2010 08:34| 4,95|     13047|United Kingdom,,|\n",
            "|536367|BOX OF VINTAGE AL...|       2|01.12.2010 08:34| 9,95|     13047|United Kingdom,,|\n",
            "|536367|HOME BUILDING BLO...|       3|01.12.2010 08:34| 5,95|     13047|United Kingdom,,|\n",
            "|536367|LOVE BUILDING BLO...|       3|01.12.2010 08:34| 5,95|     13047|United Kingdom,,|\n",
            "|536367|RECIPE BOX WITH M...|       4|01.12.2010 08:34| 7,95|     13047|United Kingdom,,|\n",
            "+------+--------------------+--------+----------------+-----+----------+----------------+\n",
            "only showing top 20 rows\n",
            "\n"
          ]
        }
      ]
    },
    {
      "cell_type": "code",
      "source": [
        "# Select only the first two column\n",
        "# Select  BillNo and Itemname \n",
        "ds= df.select(\"BillNo\", \"Itemname\")\n",
        "ds.show()"
      ],
      "metadata": {
        "id": "rk1bxPBaixG4",
        "outputId": "8cd9dd8a-9084-43cc-f4dd-7434fbc78eb7",
        "colab": {
          "base_uri": "https://localhost:8080/"
        }
      },
      "execution_count": 35,
      "outputs": [
        {
          "output_type": "stream",
          "name": "stdout",
          "text": [
            "+------+--------------------+\n",
            "|BillNo|            Itemname|\n",
            "+------+--------------------+\n",
            "|536365|WHITE HANGING HEA...|\n",
            "|536365| WHITE METAL LANTERN|\n",
            "|536365|CREAM CUPID HEART...|\n",
            "|536365|KNITTED UNION FLA...|\n",
            "|536365|RED WOOLLY HOTTIE...|\n",
            "|536365|SET 7 BABUSHKA NE...|\n",
            "|536365|GLASS STAR FROSTE...|\n",
            "|536366|HAND WARMER UNION...|\n",
            "|536366|HAND WARMER RED P...|\n",
            "|536367|ASSORTED COLOUR B...|\n",
            "|536367|POPPY'S PLAYHOUSE...|\n",
            "|536367|POPPY'S PLAYHOUSE...|\n",
            "|536367|FELTCRAFT PRINCES...|\n",
            "|536367|IVORY KNITTED MUG...|\n",
            "|536367|BOX OF 6 ASSORTED...|\n",
            "|536367|BOX OF VINTAGE JI...|\n",
            "|536367|BOX OF VINTAGE AL...|\n",
            "|536367|HOME BUILDING BLO...|\n",
            "|536367|LOVE BUILDING BLO...|\n",
            "|536367|RECIPE BOX WITH M...|\n",
            "+------+--------------------+\n",
            "only showing top 20 rows\n",
            "\n"
          ]
        }
      ]
    },
    {
      "cell_type": "code",
      "source": [
        "# Use GroupBy, agg, and collect list methods\n",
        "dg = ds.groupBy(\"BillNo\").agg(collect_list('Itemname').alias('Itemname'))\n",
        "dg.show()"
      ],
      "metadata": {
        "id": "WOaV7lHJjZmL",
        "outputId": "aedd425f-4d8a-43dd-fbce-88007d7a5a6b",
        "colab": {
          "base_uri": "https://localhost:8080/"
        }
      },
      "execution_count": 44,
      "outputs": [
        {
          "output_type": "stream",
          "name": "stdout",
          "text": [
            "+--------------------+--------+\n",
            "|              BillNo|Itemname|\n",
            "+--------------------+--------+\n",
            "|\"536477;\"\"RECORD ...|    [48]|\n",
            "|\"536544;\"\"LETTER ...|     [1]|\n",
            "|\"536544;\"\"LETTER ...|     [1]|\n",
            "|\"536544;\"\"LETTER ...|     [1]|\n",
            "|\"536544;\"\"LETTER ...|     [1]|\n",
            "|\"536544;\"\"LETTER ...|     [1]|\n",
            "|\"536557;\"\"RECORD ...|     [4]|\n",
            "|\"536576;\"\"RECORD ...|   [144]|\n",
            "|\"536591;\"\"LETTER ...|     [2]|\n",
            "|\"536591;\"\"LETTER ...|     [1]|\n",
            "|\"536591;\"\"LETTER ...|     [1]|\n",
            "|\"536591;\"\"LETTER ...|     [1]|\n",
            "|\"536592;\"\"FLOWER ...|     [1]|\n",
            "|\"536592;\"\"LETTER ...|     [2]|\n",
            "|\"536592;\"\"LETTER ...|     [1]|\n",
            "|\"536592;\"\"LETTER ...|     [1]|\n",
            "|\"536592;\"\"LETTER ...|     [1]|\n",
            "|\"536595;\"\"RECORD ...|    [24]|\n",
            "|\"536876;\"\"LETTER ...|     [1]|\n",
            "|\"536876;\"\"LETTER ...|     [3]|\n",
            "+--------------------+--------+\n",
            "only showing top 20 rows\n",
            "\n"
          ]
        }
      ]
    },
    {
      "cell_type": "code",
      "source": [
        "# Experiment with minSupport and minConfidence values\n",
        "min_support= [0.5, 0.6, 0.7]\n",
        "min_confidence = [0.5, 0.7]"
      ],
      "metadata": {
        "id": "b6OY2dBnjweB"
      },
      "execution_count": 37,
      "outputs": []
    },
    {
      "cell_type": "code",
      "source": [
        "#\n",
        "dg_new = dg.withColumn(\"Itemname\", array(dg[\"Itemname\"]))\n",
        "dg_new.show()"
      ],
      "metadata": {
        "id": "7s1qBW5VkDwg",
        "outputId": "c52f3ad1-480c-44fa-d583-008b0cd8c5e6",
        "colab": {
          "base_uri": "https://localhost:8080/"
        }
      },
      "execution_count": 45,
      "outputs": [
        {
          "output_type": "stream",
          "name": "stdout",
          "text": [
            "+--------------------+--------+\n",
            "|              BillNo|Itemname|\n",
            "+--------------------+--------+\n",
            "|\"536477;\"\"RECORD ...|  [[48]]|\n",
            "|\"536544;\"\"LETTER ...|   [[1]]|\n",
            "|\"536544;\"\"LETTER ...|   [[1]]|\n",
            "|\"536544;\"\"LETTER ...|   [[1]]|\n",
            "|\"536544;\"\"LETTER ...|   [[1]]|\n",
            "|\"536544;\"\"LETTER ...|   [[1]]|\n",
            "|\"536557;\"\"RECORD ...|   [[4]]|\n",
            "|\"536576;\"\"RECORD ...| [[144]]|\n",
            "|\"536591;\"\"LETTER ...|   [[2]]|\n",
            "|\"536591;\"\"LETTER ...|   [[1]]|\n",
            "|\"536591;\"\"LETTER ...|   [[1]]|\n",
            "|\"536591;\"\"LETTER ...|   [[1]]|\n",
            "|\"536592;\"\"FLOWER ...|   [[1]]|\n",
            "|\"536592;\"\"LETTER ...|   [[2]]|\n",
            "|\"536592;\"\"LETTER ...|   [[1]]|\n",
            "|\"536592;\"\"LETTER ...|   [[1]]|\n",
            "|\"536592;\"\"LETTER ...|   [[1]]|\n",
            "|\"536595;\"\"RECORD ...|  [[24]]|\n",
            "|\"536876;\"\"LETTER ...|   [[1]]|\n",
            "|\"536876;\"\"LETTER ...|   [[3]]|\n",
            "+--------------------+--------+\n",
            "only showing top 20 rows\n",
            "\n"
          ]
        }
      ]
    },
    {
      "cell_type": "code",
      "source": [
        "# Loop for different minSupport and minConfidence value\n",
        "for a in min_support:\n",
        "  for b in min_confidence:\n",
        "    print(f\"minSupport: {a}, minConfidence: {b}\")\n",
        "    fpGrowth = FPGrowth(itemsCol=\"Itemname\", minSupport=a, minConfidence=b)\n",
        "    model = fpGrowth.fit(dg_new)\n",
        "\n",
        "    # Display frequent itemsets.\n",
        "    model.freqItemsets.show()\n",
        "\n",
        "    # Display generated association rules.\n",
        "    model.associationRules.show()\n",
        "\n",
        "    # transform examines the input items against all the association rules and summarize the\n",
        "    # consequents as prediction\n",
        "    model.transform(dg_new).show()"
      ],
      "metadata": {
        "id": "P_ZdQ3oOkYZx",
        "outputId": "502991f3-ecfa-4ad0-dd8d-dfd876eb7b36",
        "colab": {
          "base_uri": "https://localhost:8080/"
        }
      },
      "execution_count": 46,
      "outputs": [
        {
          "output_type": "stream",
          "name": "stdout",
          "text": [
            "minSupport: 0.5, minConfidence: 0.5\n",
            "+-----+----+\n",
            "|items|freq|\n",
            "+-----+----+\n",
            "+-----+----+\n",
            "\n",
            "+----------+----------+----------+----+-------+\n",
            "|antecedent|consequent|confidence|lift|support|\n",
            "+----------+----------+----------+----+-------+\n",
            "+----------+----------+----------+----+-------+\n",
            "\n",
            "+--------------------+--------+----------+\n",
            "|              BillNo|Itemname|prediction|\n",
            "+--------------------+--------+----------+\n",
            "|\"536477;\"\"RECORD ...|  [[48]]|        []|\n",
            "|\"536544;\"\"LETTER ...|   [[1]]|        []|\n",
            "|\"536544;\"\"LETTER ...|   [[1]]|        []|\n",
            "|\"536544;\"\"LETTER ...|   [[1]]|        []|\n",
            "|\"536544;\"\"LETTER ...|   [[1]]|        []|\n",
            "|\"536544;\"\"LETTER ...|   [[1]]|        []|\n",
            "|\"536557;\"\"RECORD ...|   [[4]]|        []|\n",
            "|\"536576;\"\"RECORD ...| [[144]]|        []|\n",
            "|\"536591;\"\"LETTER ...|   [[2]]|        []|\n",
            "|\"536591;\"\"LETTER ...|   [[1]]|        []|\n",
            "|\"536591;\"\"LETTER ...|   [[1]]|        []|\n",
            "|\"536591;\"\"LETTER ...|   [[1]]|        []|\n",
            "|\"536592;\"\"FLOWER ...|   [[1]]|        []|\n",
            "|\"536592;\"\"LETTER ...|   [[2]]|        []|\n",
            "|\"536592;\"\"LETTER ...|   [[1]]|        []|\n",
            "|\"536592;\"\"LETTER ...|   [[1]]|        []|\n",
            "|\"536592;\"\"LETTER ...|   [[1]]|        []|\n",
            "|\"536595;\"\"RECORD ...|  [[24]]|        []|\n",
            "|\"536876;\"\"LETTER ...|   [[1]]|        []|\n",
            "|\"536876;\"\"LETTER ...|   [[3]]|        []|\n",
            "+--------------------+--------+----------+\n",
            "only showing top 20 rows\n",
            "\n",
            "minSupport: 0.5, minConfidence: 0.7\n",
            "+-----+----+\n",
            "|items|freq|\n",
            "+-----+----+\n",
            "+-----+----+\n",
            "\n",
            "+----------+----------+----------+----+-------+\n",
            "|antecedent|consequent|confidence|lift|support|\n",
            "+----------+----------+----------+----+-------+\n",
            "+----------+----------+----------+----+-------+\n",
            "\n",
            "+--------------------+--------+----------+\n",
            "|              BillNo|Itemname|prediction|\n",
            "+--------------------+--------+----------+\n",
            "|\"536477;\"\"RECORD ...|  [[48]]|        []|\n",
            "|\"536544;\"\"LETTER ...|   [[1]]|        []|\n",
            "|\"536544;\"\"LETTER ...|   [[1]]|        []|\n",
            "|\"536544;\"\"LETTER ...|   [[1]]|        []|\n",
            "|\"536544;\"\"LETTER ...|   [[1]]|        []|\n",
            "|\"536544;\"\"LETTER ...|   [[1]]|        []|\n",
            "|\"536557;\"\"RECORD ...|   [[4]]|        []|\n",
            "|\"536576;\"\"RECORD ...| [[144]]|        []|\n",
            "|\"536591;\"\"LETTER ...|   [[2]]|        []|\n",
            "|\"536591;\"\"LETTER ...|   [[1]]|        []|\n",
            "|\"536591;\"\"LETTER ...|   [[1]]|        []|\n",
            "|\"536591;\"\"LETTER ...|   [[1]]|        []|\n",
            "|\"536592;\"\"FLOWER ...|   [[1]]|        []|\n",
            "|\"536592;\"\"LETTER ...|   [[2]]|        []|\n",
            "|\"536592;\"\"LETTER ...|   [[1]]|        []|\n",
            "|\"536592;\"\"LETTER ...|   [[1]]|        []|\n",
            "|\"536592;\"\"LETTER ...|   [[1]]|        []|\n",
            "|\"536595;\"\"RECORD ...|  [[24]]|        []|\n",
            "|\"536876;\"\"LETTER ...|   [[1]]|        []|\n",
            "|\"536876;\"\"LETTER ...|   [[3]]|        []|\n",
            "+--------------------+--------+----------+\n",
            "only showing top 20 rows\n",
            "\n",
            "minSupport: 0.6, minConfidence: 0.5\n",
            "+-----+----+\n",
            "|items|freq|\n",
            "+-----+----+\n",
            "+-----+----+\n",
            "\n",
            "+----------+----------+----------+----+-------+\n",
            "|antecedent|consequent|confidence|lift|support|\n",
            "+----------+----------+----------+----+-------+\n",
            "+----------+----------+----------+----+-------+\n",
            "\n",
            "+--------------------+--------+----------+\n",
            "|              BillNo|Itemname|prediction|\n",
            "+--------------------+--------+----------+\n",
            "|\"536477;\"\"RECORD ...|  [[48]]|        []|\n",
            "|\"536544;\"\"LETTER ...|   [[1]]|        []|\n",
            "|\"536544;\"\"LETTER ...|   [[1]]|        []|\n",
            "|\"536544;\"\"LETTER ...|   [[1]]|        []|\n",
            "|\"536544;\"\"LETTER ...|   [[1]]|        []|\n",
            "|\"536544;\"\"LETTER ...|   [[1]]|        []|\n",
            "|\"536557;\"\"RECORD ...|   [[4]]|        []|\n",
            "|\"536576;\"\"RECORD ...| [[144]]|        []|\n",
            "|\"536591;\"\"LETTER ...|   [[2]]|        []|\n",
            "|\"536591;\"\"LETTER ...|   [[1]]|        []|\n",
            "|\"536591;\"\"LETTER ...|   [[1]]|        []|\n",
            "|\"536591;\"\"LETTER ...|   [[1]]|        []|\n",
            "|\"536592;\"\"FLOWER ...|   [[1]]|        []|\n",
            "|\"536592;\"\"LETTER ...|   [[2]]|        []|\n",
            "|\"536592;\"\"LETTER ...|   [[1]]|        []|\n",
            "|\"536592;\"\"LETTER ...|   [[1]]|        []|\n",
            "|\"536592;\"\"LETTER ...|   [[1]]|        []|\n",
            "|\"536595;\"\"RECORD ...|  [[24]]|        []|\n",
            "|\"536876;\"\"LETTER ...|   [[1]]|        []|\n",
            "|\"536876;\"\"LETTER ...|   [[3]]|        []|\n",
            "+--------------------+--------+----------+\n",
            "only showing top 20 rows\n",
            "\n",
            "minSupport: 0.6, minConfidence: 0.7\n",
            "+-----+----+\n",
            "|items|freq|\n",
            "+-----+----+\n",
            "+-----+----+\n",
            "\n",
            "+----------+----------+----------+----+-------+\n",
            "|antecedent|consequent|confidence|lift|support|\n",
            "+----------+----------+----------+----+-------+\n",
            "+----------+----------+----------+----+-------+\n",
            "\n",
            "+--------------------+--------+----------+\n",
            "|              BillNo|Itemname|prediction|\n",
            "+--------------------+--------+----------+\n",
            "|\"536477;\"\"RECORD ...|  [[48]]|        []|\n",
            "|\"536544;\"\"LETTER ...|   [[1]]|        []|\n",
            "|\"536544;\"\"LETTER ...|   [[1]]|        []|\n",
            "|\"536544;\"\"LETTER ...|   [[1]]|        []|\n",
            "|\"536544;\"\"LETTER ...|   [[1]]|        []|\n",
            "|\"536544;\"\"LETTER ...|   [[1]]|        []|\n",
            "|\"536557;\"\"RECORD ...|   [[4]]|        []|\n",
            "|\"536576;\"\"RECORD ...| [[144]]|        []|\n",
            "|\"536591;\"\"LETTER ...|   [[2]]|        []|\n",
            "|\"536591;\"\"LETTER ...|   [[1]]|        []|\n",
            "|\"536591;\"\"LETTER ...|   [[1]]|        []|\n",
            "|\"536591;\"\"LETTER ...|   [[1]]|        []|\n",
            "|\"536592;\"\"FLOWER ...|   [[1]]|        []|\n",
            "|\"536592;\"\"LETTER ...|   [[2]]|        []|\n",
            "|\"536592;\"\"LETTER ...|   [[1]]|        []|\n",
            "|\"536592;\"\"LETTER ...|   [[1]]|        []|\n",
            "|\"536592;\"\"LETTER ...|   [[1]]|        []|\n",
            "|\"536595;\"\"RECORD ...|  [[24]]|        []|\n",
            "|\"536876;\"\"LETTER ...|   [[1]]|        []|\n",
            "|\"536876;\"\"LETTER ...|   [[3]]|        []|\n",
            "+--------------------+--------+----------+\n",
            "only showing top 20 rows\n",
            "\n",
            "minSupport: 0.7, minConfidence: 0.5\n",
            "+-----+----+\n",
            "|items|freq|\n",
            "+-----+----+\n",
            "+-----+----+\n",
            "\n",
            "+----------+----------+----------+----+-------+\n",
            "|antecedent|consequent|confidence|lift|support|\n",
            "+----------+----------+----------+----+-------+\n",
            "+----------+----------+----------+----+-------+\n",
            "\n",
            "+--------------------+--------+----------+\n",
            "|              BillNo|Itemname|prediction|\n",
            "+--------------------+--------+----------+\n",
            "|\"536477;\"\"RECORD ...|  [[48]]|        []|\n",
            "|\"536544;\"\"LETTER ...|   [[1]]|        []|\n",
            "|\"536544;\"\"LETTER ...|   [[1]]|        []|\n",
            "|\"536544;\"\"LETTER ...|   [[1]]|        []|\n",
            "|\"536544;\"\"LETTER ...|   [[1]]|        []|\n",
            "|\"536544;\"\"LETTER ...|   [[1]]|        []|\n",
            "|\"536557;\"\"RECORD ...|   [[4]]|        []|\n",
            "|\"536576;\"\"RECORD ...| [[144]]|        []|\n",
            "|\"536591;\"\"LETTER ...|   [[2]]|        []|\n",
            "|\"536591;\"\"LETTER ...|   [[1]]|        []|\n",
            "|\"536591;\"\"LETTER ...|   [[1]]|        []|\n",
            "|\"536591;\"\"LETTER ...|   [[1]]|        []|\n",
            "|\"536592;\"\"FLOWER ...|   [[1]]|        []|\n",
            "|\"536592;\"\"LETTER ...|   [[2]]|        []|\n",
            "|\"536592;\"\"LETTER ...|   [[1]]|        []|\n",
            "|\"536592;\"\"LETTER ...|   [[1]]|        []|\n",
            "|\"536592;\"\"LETTER ...|   [[1]]|        []|\n",
            "|\"536595;\"\"RECORD ...|  [[24]]|        []|\n",
            "|\"536876;\"\"LETTER ...|   [[1]]|        []|\n",
            "|\"536876;\"\"LETTER ...|   [[3]]|        []|\n",
            "+--------------------+--------+----------+\n",
            "only showing top 20 rows\n",
            "\n",
            "minSupport: 0.7, minConfidence: 0.7\n",
            "+-----+----+\n",
            "|items|freq|\n",
            "+-----+----+\n",
            "+-----+----+\n",
            "\n",
            "+----------+----------+----------+----+-------+\n",
            "|antecedent|consequent|confidence|lift|support|\n",
            "+----------+----------+----------+----+-------+\n",
            "+----------+----------+----------+----+-------+\n",
            "\n",
            "+--------------------+--------+----------+\n",
            "|              BillNo|Itemname|prediction|\n",
            "+--------------------+--------+----------+\n",
            "|\"536477;\"\"RECORD ...|  [[48]]|        []|\n",
            "|\"536544;\"\"LETTER ...|   [[1]]|        []|\n",
            "|\"536544;\"\"LETTER ...|   [[1]]|        []|\n",
            "|\"536544;\"\"LETTER ...|   [[1]]|        []|\n",
            "|\"536544;\"\"LETTER ...|   [[1]]|        []|\n",
            "|\"536544;\"\"LETTER ...|   [[1]]|        []|\n",
            "|\"536557;\"\"RECORD ...|   [[4]]|        []|\n",
            "|\"536576;\"\"RECORD ...| [[144]]|        []|\n",
            "|\"536591;\"\"LETTER ...|   [[2]]|        []|\n",
            "|\"536591;\"\"LETTER ...|   [[1]]|        []|\n",
            "|\"536591;\"\"LETTER ...|   [[1]]|        []|\n",
            "|\"536591;\"\"LETTER ...|   [[1]]|        []|\n",
            "|\"536592;\"\"FLOWER ...|   [[1]]|        []|\n",
            "|\"536592;\"\"LETTER ...|   [[2]]|        []|\n",
            "|\"536592;\"\"LETTER ...|   [[1]]|        []|\n",
            "|\"536592;\"\"LETTER ...|   [[1]]|        []|\n",
            "|\"536592;\"\"LETTER ...|   [[1]]|        []|\n",
            "|\"536595;\"\"RECORD ...|  [[24]]|        []|\n",
            "|\"536876;\"\"LETTER ...|   [[1]]|        []|\n",
            "|\"536876;\"\"LETTER ...|   [[3]]|        []|\n",
            "+--------------------+--------+----------+\n",
            "only showing top 20 rows\n",
            "\n"
          ]
        }
      ]
    },
    {
      "cell_type": "code",
      "source": [
        "# Convert the Spark DataFrame back to a Pandas DataFrame using Arrow\n",
        "result_pdf = model.select(\"*\").toPandas()\n",
        "result_pdf.head()"
      ],
      "metadata": {
        "id": "vgeQzb4trFyE",
        "outputId": "a70598be-aac3-4aa7-e58f-7f95055fedce",
        "colab": {
          "base_uri": "https://localhost:8080/",
          "height": 200
        }
      },
      "execution_count": 48,
      "outputs": [
        {
          "output_type": "error",
          "ename": "AttributeError",
          "evalue": "ignored",
          "traceback": [
            "\u001b[0;31m---------------------------------------------------------------------------\u001b[0m",
            "\u001b[0;31mAttributeError\u001b[0m                            Traceback (most recent call last)",
            "\u001b[0;32m<ipython-input-48-469fe2517b5b>\u001b[0m in \u001b[0;36m<cell line: 2>\u001b[0;34m()\u001b[0m\n\u001b[1;32m      1\u001b[0m \u001b[0;31m# Convert the Spark DataFrame back to a Pandas DataFrame using Arrow\u001b[0m\u001b[0;34m\u001b[0m\u001b[0;34m\u001b[0m\u001b[0m\n\u001b[0;32m----> 2\u001b[0;31m \u001b[0mresult_pdf\u001b[0m \u001b[0;34m=\u001b[0m \u001b[0mmodel\u001b[0m\u001b[0;34m.\u001b[0m\u001b[0mselect\u001b[0m\u001b[0;34m(\u001b[0m\u001b[0;34m\"*\"\u001b[0m\u001b[0;34m)\u001b[0m\u001b[0;34m.\u001b[0m\u001b[0mtoPandas\u001b[0m\u001b[0;34m(\u001b[0m\u001b[0;34m)\u001b[0m\u001b[0;34m\u001b[0m\u001b[0;34m\u001b[0m\u001b[0m\n\u001b[0m\u001b[1;32m      3\u001b[0m \u001b[0mresult_pdf\u001b[0m\u001b[0;34m.\u001b[0m\u001b[0mhead\u001b[0m\u001b[0;34m(\u001b[0m\u001b[0;34m)\u001b[0m\u001b[0;34m\u001b[0m\u001b[0;34m\u001b[0m\u001b[0m\n",
            "\u001b[0;31mAttributeError\u001b[0m: 'FPGrowthModel' object has no attribute 'select'"
          ]
        }
      ]
    },
    {
      "cell_type": "markdown",
      "source": [
        "# Conclusion\n",
        "\n",
        "The minimal frequency that an itemset must have in order to be deemed frequent is determined by the minimal Support parameter. Itemsets that don't meet the minimum support criterion are trimmed because they aren't likely to contain any useful or instructive information. More frequent itemsets are generated when the minimum support value is decreased as opposed to when it is increased.\n",
        "The minimum amount of confidence that an association rule must possess in order to be deemed interesting or instructive is determined by the Minimum Confidence parameter. Pruning is done to association rules that are deemed uninteresting or have confidence levels below the minimum confidence threshold. More association rules are produced when the minimum confidence value is increased, while more association rules are produced when it is decreased.\n"
      ],
      "metadata": {
        "id": "1gjaJEopoVi-"
      }
    }
  ]
}